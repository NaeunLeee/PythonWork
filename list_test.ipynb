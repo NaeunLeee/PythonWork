{
 "metadata": {
  "language_info": {
   "codemirror_mode": {
    "name": "ipython",
    "version": 3
   },
   "file_extension": ".py",
   "mimetype": "text/x-python",
   "name": "python",
   "nbconvert_exporter": "python",
   "pygments_lexer": "ipython3",
   "version": "3.9.5"
  },
  "orig_nbformat": 2,
  "kernelspec": {
   "name": "python395jvsc74a57bd00ac516125b3ee16d4eaa41f008fade7bad50b808bd1b6d74d2e8ae0015ba9066",
   "display_name": "Python 3.9.5 64-bit"
  },
  "metadata": {
   "interpreter": {
    "hash": "0ac516125b3ee16d4eaa41f008fade7bad50b808bd1b6d74d2e8ae0015ba9066"
   }
  }
 },
 "nbformat": 4,
 "nbformat_minor": 2,
 "cells": [
  {
   "cell_type": "code",
   "execution_count": null,
   "metadata": {},
   "outputs": [],
   "source": [
    "arr = []\n",
    "for i in range(0, 20, 2):\n",
    "    arr.append(i*i)\n",
    "print(arr)"
   ]
  },
  {
   "cell_type": "code",
   "execution_count": null,
   "metadata": {},
   "outputs": [],
   "source": [
    "arr = [i*2 for i in range(0, 20, 2) if i*i%10 != 0]\n",
    "print(arr)\n"
   ]
  },
  {
   "cell_type": "code",
   "execution_count": null,
   "metadata": {},
   "outputs": [],
   "source": [
    "s = '010-1111-2222'\n",
    "tel = s.split('-')\n",
    "print(type(tel))\n",
    "print(tel[1])"
   ]
  },
  {
   "cell_type": "code",
   "execution_count": null,
   "metadata": {},
   "outputs": [],
   "source": [
    "birth = ['2000', '10', '1']\n",
    "str_birth = '-'.join(birth)\n",
    "print(type(str_birth))\n",
    "print(str_birth)"
   ]
  },
  {
   "cell_type": "code",
   "execution_count": null,
   "metadata": {},
   "outputs": [],
   "source": [
    "def print_3times():\n",
    "    print(\"안녕하세요\")\n",
    "    print(\"안녕하세요\")\n",
    "    print(\"안녕하세요\")\n",
    "\n",
    "print(\"start\")\n",
    "print_3times()\n",
    "print(\"end\")"
   ]
  },
  {
   "cell_type": "code",
   "execution_count": null,
   "metadata": {},
   "outputs": [],
   "source": [
    "def print_n_times(value=\"하이\", n=5):\n",
    "    for i in range(n):\n",
    "        print(value)\n",
    "\n",
    "print(\"시작\")\n",
    "print_n_times(\"안녕\",1)\n",
    "print(\"끝\")"
   ]
  },
  {
   "cell_type": "code",
   "execution_count": null,
   "metadata": {},
   "outputs": [],
   "source": [
    "# li = [1, 2, 3, 4, 5]\n",
    "print(sum([1, 2, 3, 4, 5]))"
   ]
  },
  {
   "cell_type": "code",
   "execution_count": null,
   "metadata": {},
   "outputs": [],
   "source": [
    "def list_join(s, *v):\n",
    "    arr = []\n",
    "    for el in v:\n",
    "        arr.append(str(el))\n",
    "    return s.join(arr)\n",
    "\n",
    "print(\"시작\")\n",
    "result = list_join(\"-\",3,4,4,1,3,3,1,7)\n",
    "print(result)\n",
    "print(\"끝\")"
   ]
  },
  {
   "cell_type": "code",
   "execution_count": null,
   "metadata": {},
   "outputs": [],
   "source": [
    "#리턴이 있는 함수\n",
    "def func(n):\n",
    "    t = 1               \n",
    "    for i in range(1, n+1):\n",
    "        t *= i\n",
    "    return t\n",
    "\n",
    "print(\"start\")\n",
    "result = func(3)\n",
    "print(result)\n",
    "print(\"end\")"
   ]
  },
  {
   "cell_type": "code",
   "execution_count": null,
   "metadata": {},
   "outputs": [],
   "source": [
    "def func(n):\n",
    "    t = []               \n",
    "    for i in range(n):\n",
    "        t.append(i)\n",
    "    return t\n",
    "\n",
    "print(\"start\")\n",
    "result = func(5)\n",
    "print(result)\n",
    "print(\"end\")"
   ]
  },
  {
   "cell_type": "code",
   "execution_count": null,
   "metadata": {},
   "outputs": [],
   "source": []
  }
 ]
}