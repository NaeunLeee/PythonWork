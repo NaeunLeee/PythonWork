{
 "metadata": {
  "language_info": {
   "codemirror_mode": {
    "name": "ipython",
    "version": 3
   },
   "file_extension": ".py",
   "mimetype": "text/x-python",
   "name": "python",
   "nbconvert_exporter": "python",
   "pygments_lexer": "ipython3",
   "version": "3.9.5"
  },
  "orig_nbformat": 2,
  "kernelspec": {
   "name": "python395jvsc74a57bd00ac516125b3ee16d4eaa41f008fade7bad50b808bd1b6d74d2e8ae0015ba9066",
   "display_name": "Python 3.9.5 64-bit"
  },
  "metadata": {
   "interpreter": {
    "hash": "0ac516125b3ee16d4eaa41f008fade7bad50b808bd1b6d74d2e8ae0015ba9066"
   }
  }
 },
 "nbformat": 4,
 "nbformat_minor": 2,
 "cells": [
  {
   "cell_type": "code",
   "execution_count": 4,
   "metadata": {},
   "outputs": [
    {
     "output_type": "stream",
     "name": "stdout",
     "text": [
      "c:\\new\n"
     ]
    }
   ],
   "source": [
    "#[1번]화면에 “c:\\new”를 출력하는 코드를 작성\n",
    "print(\"c:\\\\new\")"
   ]
  },
  {
   "source": [
    "#[2번] 다음 실행결과는 확인하고 정상적으로 실행되도록 코드를 수정하시오.\n",
    "year = int('2021')\n",
    "year = year + 1\n",
    "print(year)"
   ],
   "cell_type": "code",
   "metadata": {},
   "execution_count": 5,
   "outputs": [
    {
     "output_type": "stream",
     "name": "stdout",
     "text": [
      "2022\n"
     ]
    }
   ]
  },
  {
   "cell_type": "code",
   "execution_count": 7,
   "metadata": {},
   "outputs": [
    {
     "output_type": "stream",
     "name": "stdout",
     "text": [
      "1170000\n"
     ]
    }
   ],
   "source": [
    "#[3번] tv가 36개월 무이자 할부로 월 32,500에 판매되고 있다. 변수를 사용해서 총금액을 계산해서 출력하는 코드는?\n",
    "금액 = int(32500)\n",
    "할부개월 = int(36)\n",
    "print(금액*할부개월)"
   ]
  },
  {
   "cell_type": "code",
   "execution_count": 11,
   "metadata": {},
   "outputs": [
    {
     "output_type": "stream",
     "name": "stdout",
     "text": [
      "2210\n"
     ]
    }
   ],
   "source": [
    "#[4번] 자동차 번호가 다음과 같을 때 뒤에 4자리만 출력하는 코드는?\n",
    "license_plate = \"24가 2210\"\n",
    "print(license_plate[-4:])"
   ]
  },
  {
   "cell_type": "code",
   "execution_count": 12,
   "metadata": {},
   "outputs": [
    {
     "output_type": "stream",
     "name": "stdout",
     "text": [
      "['분노의 질주', '극장판 귀멸의 칼날: 무한열차편', '스파이럴', '미나리']\n"
     ]
    }
   ],
   "source": [
    "#[5번] movie 리스트에 \"미나리\"을 추가하라\n",
    "movie = ['분노의 질주', '극장판 귀멸의 칼날: 무한열차편', '스파이럴']\n",
    "movie.append(\"미나리\")\n",
    "print(movie)"
   ]
  },
  {
   "cell_type": "code",
   "execution_count": 15,
   "metadata": {},
   "outputs": [
    {
     "output_type": "stream",
     "name": "stdout",
     "text": [
      "['분노의 질주', '극장판 귀멸의 칼날: 무한열차편', '미나리']\n"
     ]
    }
   ],
   "source": [
    "#[6번] movie 리스트에서 '스파이럴'를 삭제하라.\n",
    "movie = ['분노의 질주', '극장판 귀멸의 칼날: 무한열차편', '스파이럴', '미나리']\n",
    "movie.remove(\"스파이럴\")\n",
    "print(movie)"
   ]
  },
  {
   "cell_type": "code",
   "execution_count": 16,
   "metadata": {},
   "outputs": [
    {
     "output_type": "stream",
     "name": "stdout",
     "text": [
      "3\n"
     ]
    }
   ],
   "source": [
    "#[7번] movie 리스트에 저장된 데이터의 갯수를 출력\n",
    "movie = ['분노의 질주', '극장판 귀멸의 칼날: 무한열차편', '미나리']\n",
    "print(len(movie))"
   ]
  },
  {
   "cell_type": "code",
   "execution_count": 17,
   "metadata": {},
   "outputs": [
    {
     "output_type": "stream",
     "name": "stdout",
     "text": [
      "분노의 질주\n극장판 귀멸의 칼날: 무한열차편\n미나리\n"
     ]
    }
   ],
   "source": [
    "#[8번] movie 리스트를 다음과 같이 출력되도록 코드를 작성  179 페이지 참조\n",
    "'''\n",
    "1. 분노의 질주\n",
    "2. 극장판 귀멸의 칼날: 무한열차편\n",
    "3. 미나리\n",
    "'''\n",
    "movie = ['분노의 질주', '극장판 귀멸의 칼날: 무한열차편', '미나리']\n",
    "for i in movie:\n",
    "    print(i)"
   ]
  },
  {
   "cell_type": "code",
   "execution_count": 18,
   "metadata": {},
   "outputs": [
    {
     "output_type": "stream",
     "name": "stdout",
     "text": [
      "3.0\n"
     ]
    }
   ],
   "source": [
    "#[9번] 다음 리스트의 평균을 출력하라.\n",
    "nums = [1, 2, 3, 4, 5]\n",
    "sum = 0\n",
    "for i in nums:\n",
    "    sum += i\n",
    "    avg = sum/len(nums)\n",
    "print(avg)\n"
   ]
  },
  {
   "cell_type": "code",
   "execution_count": 43,
   "metadata": {},
   "outputs": [
    {
     "output_type": "stream",
     "name": "stdout",
     "text": [
      "[1, 3, 5, 7, 9]\n"
     ]
    }
   ],
   "source": [
    "#[10번] 슬라이싱을 사용해서 홀수만 출력하라.\n",
    "# 결과 : [1, 3, 5, 7, 9]\n",
    "nums = [1, 2, 3, 4, 5, 6, 7, 8, 9, 10]\n",
    "\n",
    "print(nums[0:9:2])"
   ]
  },
  {
   "cell_type": "code",
   "execution_count": 49,
   "metadata": {},
   "outputs": [
    {
     "output_type": "error",
     "ename": "SyntaxError",
     "evalue": "invalid syntax (<ipython-input-49-dae5771c1bc6>, line 4)",
     "traceback": [
      "\u001b[1;36m  File \u001b[1;32m\"<ipython-input-49-dae5771c1bc6>\"\u001b[1;36m, line \u001b[1;32m4\u001b[0m\n\u001b[1;33m    print_score([1, 2, 3])\u001b[0m\n\u001b[1;37m               ^\u001b[0m\n\u001b[1;31mSyntaxError\u001b[0m\u001b[1;31m:\u001b[0m invalid syntax\n"
     ]
    }
   ],
   "source": [
    "#[11번] 성적 리스트를 입력 받아 평균을 출력하는 print_score 함수를 정의하라.\n",
    "#함수선언\n",
    "def print_score([*a]):\n",
    "    \n",
    "print_score([1, 2, 3])"
   ]
  },
  {
   "cell_type": "code",
   "execution_count": 25,
   "metadata": {},
   "outputs": [
    {
     "output_type": "stream",
     "name": "stdout",
     "text": [
      "www.naver.com\n"
     ]
    }
   ],
   "source": [
    "#[12번] 문자열 하나를 입력받아 인터넷 주소를 반환하는 make_url 함수를 정의하라.\n",
    "#함수선언\n",
    "def make_url(st):\n",
    "    print(\"www.{}.com\".format(st))\n",
    "\n",
    "make_url(\"naver\")   #실행결과 www.naver.com"
   ]
  },
  {
   "cell_type": "code",
   "execution_count": 35,
   "metadata": {},
   "outputs": [
    {
     "output_type": "stream",
     "name": "stdout",
     "text": [
      "년도: 2020\n월: 05\n일: 01\n"
     ]
    }
   ],
   "source": [
    "#[13번] 다음과 같이 날짜를 표현하는 문자열이 있을 때 연도, 월, 일로 나눠보세요.  힌트 : split()\n",
    "''' 실행결과\n",
    "년도: 2020\n",
    "월: 04\n",
    "일: 01\n",
    "'''\n",
    "date = \"2020-05-01\"\n",
    "y, m, d = date.split('-')\n",
    "print(\"년도:\", y)\n",
    "print(\"월:\", m)\n",
    "print(\"일:\", d)"
   ]
  },
  {
   "cell_type": "code",
   "execution_count": 44,
   "metadata": {},
   "outputs": [
    {
     "output_type": "stream",
     "name": "stdout",
     "text": [
      "kr\n"
     ]
    }
   ],
   "source": [
    "#[14번] url 에 저장된 웹 페이지 주소에서 도메인을 출력하세요.  \n",
    "# hint : .으로 split하여 마지막 요소를 출력\n",
    "# 실행결과 : kr\n",
    "url = \"http://sharebook.kr\"\n",
    "\n",
    "h, d = url.split('.')\n",
    "print(d)"
   ]
  },
  {
   "cell_type": "code",
   "execution_count": 46,
   "metadata": {},
   "outputs": [
    {
     "output_type": "stream",
     "name": "stdout",
     "text": [
      "10\n20\n30\n"
     ]
    }
   ],
   "source": [
    "#[15번] 다음 코드를 for문으로 작성\n",
    "'''\n",
    "변수 = 10\n",
    "print(변수)\n",
    "변수 = 20\n",
    "print(변수)\n",
    "변수 = 30\n",
    "print(변수)\n",
    "'''\n",
    "li = [10, 20, 30]\n",
    "for 변수 in li:\n",
    "    print(변수)"
   ]
  },
  {
   "cell_type": "code",
   "execution_count": 45,
   "metadata": {},
   "outputs": [
    {
     "output_type": "stream",
     "name": "stdout",
     "text": [
      "d\nc\np\n"
     ]
    }
   ],
   "source": [
    "#[16번] or문을 사용해서 동물 이름의 첫 글자만 출력하라.\n",
    "animal_list = ['dog', 'cat', 'parrot']\n",
    "\n",
    "for i in animal_list:\n",
    "    print(i[0])"
   ]
  },
  {
   "cell_type": "code",
   "execution_count": 36,
   "metadata": {},
   "outputs": [
    {
     "output_type": "stream",
     "name": "stdout",
     "text": [
      "-20\n-3\n"
     ]
    }
   ],
   "source": [
    "#[17번] for문을 사용해서 리스트의 음수를 출력하라.\n",
    "num_list = [3, -20, -3, 44]\n",
    "\n",
    "for i in num_list:\n",
    "    if i<0:\n",
    "        print(i)\n"
   ]
  },
  {
   "cell_type": "code",
   "execution_count": 37,
   "metadata": {},
   "outputs": [
    {
     "output_type": "stream",
     "name": "stdout",
     "text": [
      "3\n"
     ]
    }
   ],
   "source": [
    "#[18번] for문을 사용해서 3의 배수만을 출력하라.\n",
    "num_list = [3, 100, 23, 44]\n",
    "\n",
    "for i in num_list:\n",
    "    if i%3==0:\n",
    "        print(i)\n",
    "        "
   ]
  },
  {
   "cell_type": "code",
   "execution_count": null,
   "metadata": {},
   "outputs": [],
   "source": [
    "#[19번] 리스트에서 대문자만 화면에 출력하라.\n",
    "char_list = [\"A\", \"b\", \"c\", \"D\"]\n",
    "\n"
   ]
  }
 ]
}