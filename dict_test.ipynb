{
 "metadata": {
  "language_info": {
   "codemirror_mode": {
    "name": "ipython",
    "version": 3
   },
   "file_extension": ".py",
   "mimetype": "text/x-python",
   "name": "python",
   "nbconvert_exporter": "python",
   "pygments_lexer": "ipython3",
   "version": "3.9.5"
  },
  "orig_nbformat": 2,
  "kernelspec": {
   "name": "python395jvsc74a57bd00ac516125b3ee16d4eaa41f008fade7bad50b808bd1b6d74d2e8ae0015ba9066",
   "display_name": "Python 3.9.5 64-bit"
  },
  "metadata": {
   "interpreter": {
    "hash": "0ac516125b3ee16d4eaa41f008fade7bad50b808bd1b6d74d2e8ae0015ba9066"
   }
  }
 },
 "nbformat": 4,
 "nbformat_minor": 2,
 "cells": [
  {
   "cell_type": "code",
   "execution_count": 4,
   "metadata": {},
   "outputs": [
    {
     "output_type": "stream",
     "name": "stdout",
     "text": [
      "{'no': '100', 'name': '홍길동', 'email': 'a@a.a', 'hobby': '게임'}\n"
     ]
    }
   ],
   "source": [
    "emp1 = {'no':'100', 'name':'홍길동', 'email':'a@a.a'}\n",
    "emp1['hobby'] = '게임'\n",
    "print(emp1)"
   ]
  },
  {
   "cell_type": "code",
   "execution_count": 8,
   "metadata": {},
   "outputs": [
    {
     "output_type": "stream",
     "name": "stdout",
     "text": [
      "['게임', '독서']\n게임\n독서\n"
     ]
    }
   ],
   "source": [
    "emp1 = {'no':'100', 'name':'홍길동', 'email':'a@a.a'}\n",
    "emp1['hobby'] = ['게임', '독서']\n",
    "print(emp1['hobby'])\n",
    "print(emp1['hobby'][0])\n",
    "print(emp1.get('hobby')[1])"
   ]
  },
  {
   "cell_type": "code",
   "execution_count": 11,
   "metadata": {},
   "outputs": [
    {
     "output_type": "stream",
     "name": "stdout",
     "text": [
      "True\nFalse\n"
     ]
    }
   ],
   "source": [
    "print('hobby' in emp1)\n",
    "print('addr' in emp1)"
   ]
  },
  {
   "cell_type": "code",
   "execution_count": 16,
   "metadata": {},
   "outputs": [
    {
     "output_type": "stream",
     "name": "stdout",
     "text": [
      "no : 100\nname : 홍길동\nemail : a@a.a\nhobby : ['게임', '독서']\n"
     ]
    }
   ],
   "source": [
    "for key in emp1:\n",
    "    print(f\"{key} : {emp1[key]}\")"
   ]
  },
  {
   "cell_type": "code",
   "execution_count": 28,
   "metadata": {},
   "outputs": [
    {
     "output_type": "stream",
     "name": "stdout",
     "text": [
      "mail : a@a.a  hobby : 게임\nmail : b@a.a  \nmail : c@a.a  \n"
     ]
    }
   ],
   "source": [
    "emp_dict = [{'no':'100', 'name':'홍길동', 'mail':'a@a.a', 'hobby':'게임'},\n",
    "            {'no':'101', 'name':'김유신', 'mail':'b@a.a'},\n",
    "            {'no':'102', 'name':'강감찬', 'mail':'c@a.a'}]\n",
    "\n",
    "# 모든 사원의 이메일, 취미 출력\n",
    "for emp in emp_dict:\n",
    "    print(f\"mail : {emp['mail']}\", end='  ')\n",
    "    if 'hobby' in emp:\n",
    "        print(f\"hobby : {emp['hobby']}\")\n",
    "    else:\n",
    "        print()\n"
   ]
  },
  {
   "cell_type": "code",
   "execution_count": 1,
   "metadata": {},
   "outputs": [
    {
     "output_type": "stream",
     "name": "stdout",
     "text": [
      "no 100\nname 홍길동\nemail a@a.a\n"
     ]
    }
   ],
   "source": [
    "emp1 = {'no':'100', 'name':'홍길동', 'email':'a@a.a'}\n",
    "for key, element in emp1.items():\n",
    "    print(key, element)"
   ]
  },
  {
   "cell_type": "code",
   "execution_count": 6,
   "metadata": {},
   "outputs": [
    {
     "output_type": "stream",
     "name": "stdout",
     "text": [
      "[1, 4, 9, 16, 25, 36, 49, 64, 81, 100]\n"
     ]
    }
   ],
   "source": [
    "array = []\n",
    "for i in range(1, 11):\n",
    "    array.append(i*i)\n",
    "print(array)"
   ]
  },
  {
   "cell_type": "code",
   "execution_count": null,
   "metadata": {},
   "outputs": [],
   "source": []
  }
 ]
}